{
  "nbformat": 4,
  "nbformat_minor": 0,
  "metadata": {
    "colab": {
      "name": "Modified 10x64.ipynb",
      "private_outputs": true,
      "provenance": [],
      "collapsed_sections": [],
      "include_colab_link": true
    },
    "kernelspec": {
      "name": "python3",
      "display_name": "Python 3"
    },
    "language_info": {
      "name": "python"
    }
  },
  "cells": [
    {
      "cell_type": "markdown",
      "metadata": {
        "id": "view-in-github",
        "colab_type": "text"
      },
      "source": [
        "<a href=\"https://colab.research.google.com/github/ssaagamemer/ModifiedColabFMobileFile/blob/main/ModifiedRel2_10x64.ipynb\" target=\"_parent\"><img src=\"https://colab.research.google.com/assets/colab-badge.svg\" alt=\"Open In Colab\"/></a>"
      ]
    },
    {
      "cell_type": "code",
      "source": [
        "\n",
        "#@title Step1\n",
        "#@markdown  Download w10.sh here Edit A Paste Here Here\n",
        "import pathlib\n",
        "import sys\n",
        "import os\n",
        "file = pathlib.Path(\"w10.sh\")\n",
        "if file.exists ():\n",
        "    print(\"file exist Please Check if w10 img downloaded\")\n",
        "    sys.exit(\"w10.sh detected\")\n",
        "else:\n",
        "    print(\"Downloading...\")\n",
        "! curl -L -o w10.sh Paste Here"
      ],
      "metadata": {
        "id": "82dIpUYXtCta"
      },
      "execution_count": null,
      "outputs": []
    },
    {
      "cell_type": "code",
      "source": [
        "\n",
        "#@title Step2\n",
        "#@markdown Download Win img here\n",
        "import sys\n",
        "import os\n",
        "import pathlib\n",
        "file = pathlib.Path(\"w10x64.img\")\n",
        "if file.exists ():\n",
        "    print(\"File exist Please Play Top Code Player\")\n",
        "    sys.exit(\"Err_File_Exist\")\n",
        "else:\n",
        "    print(\"Downloading...\")\n",
        "! curl -L -o w10x64.img https://bit.ly/akuhnetW10x64"
      ],
      "metadata": {
        "id": "ArO2M05R9UlI"
      },
      "execution_count": null,
      "outputs": []
    },
    {
      "cell_type": "code",
      "metadata": {
        "id": "i3vGVSfT-ly9"
      },
      "source": [
        "\n",
        "#@markdown Modified W1064 rdp Activate A Step 1 and 2 before run this\n",
        "\n",
        "\n",
        "#@markdown Username: akuh<br>\n",
        "#@markdown Password: Akuh.Net <br><br>\n",
        "Credits to Akuh.net\n",
        "import pathlib\n",
        "file = pathlib.Path(\"w10x64.img\")\n",
        "file2 = pathlib.Path(\"w10.sh\")\n",
        "if file.exists ():\n",
        "    print(\"Contuneing to Check sh File\")\n",
        "if file2.exists ():\n",
        "    ! chmod +x w10.sh\n",
        "    ! ./w10.sh\n",
        "else:\n",
        "    exit(\"Err_No_File_Exception\")\n",
        "    print(\"No Win10 img or modified w10.sh file Please play Second code player\")"
      ],
      "execution_count": null,
      "outputs": []
    },
    {
      "cell_type": "markdown",
      "metadata": {
        "id": "e9wa7ujNT_pz"
      },
      "source": [
        "# **Prevent from disconnecting** \n",
        "# **Press F12 Or Download Kiwi Browser And Check Dev Tools then enter this code:**\n",
        "",
        "function ClickConnect() {\n",
        "  console.log('Working')\n",
        "  document\n",
        "    .querySelector('#top-toolbar > colab-connect-button')\n",
        "    .shadowRoot.querySelector('#connect')\n",
        "    .click()\n",
        "}\n",
        "\n",
        "setInterval(ClickConnect, 60000)"
      ]
    }
  ]
}
